{
 "cells": [
  {
   "cell_type": "markdown",
   "id": "13464060-5489-43de-ab3b-e16cad47e436",
   "metadata": {},
   "source": [
    "### Analyze Openneuro metadata\n",
    "\n",
    "The code below will parse the openneuro metadata (obtained via the GraphlQL API) to identify funding sources."
   ]
  },
  {
   "cell_type": "code",
   "execution_count": 1,
   "id": "7fb8aa15-4915-4d52-a5ed-e03531620425",
   "metadata": {},
   "outputs": [],
   "source": [
    "import json\n",
    "import re\n",
    "import pandas as pd\n",
    "import string\n",
    "from collections import defaultdict\n",
    "import requests\n",
    "\n",
    "from parse_metadata import get_bi_project_numbers, get_bi_grant_nums,\\\n",
    "    extract_funding_info, extract_nih_grants, is_nih_grant,\\\n",
    "    extract_nsf_grants, is_nsf_grant, mentions_bi\n",
    "\n",
    "\n",
    "grant_codes = list(pd.read_csv('ActivityCodes.csv')['ACT_CODE'])\n",
    "institute_codes = list(pd.read_csv('IC_abbrevs.csv', header=None).loc[:, 0])\n",
    "grant_codes.remove('S10')\n",
    "\n",
    "verbose = True\n",
    "# funding metadata obtained using get_metadata.py\n",
    "metadata_file = 'funding_metadata.json'\n",
    "# funded grants obtained on 5/30/21 from BRAIN Initiative web site\n",
    "bi_grant_file = 'funded_awards-2021-05-30T12-08-20.csv'\n"
   ]
  },
  {
   "cell_type": "markdown",
   "id": "1985b7fa-0e43-41aa-b5ea-e9fa73ea3f60",
   "metadata": {},
   "source": [
    "Load BRAIN Initiative grant info\n"
   ]
  },
  {
   "cell_type": "code",
   "execution_count": 2,
   "id": "97884e17-3f15-469f-bd53-2e6d141df3dc",
   "metadata": {},
   "outputs": [
    {
     "name": "stdout",
     "output_type": "stream",
     "text": [
      "found 935 BI grants\n"
     ]
    }
   ],
   "source": [
    "bi_grant_df = pd.read_csv(bi_grant_file).dropna()\n",
    "bi_project_nums = get_bi_project_numbers(bi_grant_file)\n",
    "bi_grants = get_bi_grant_nums(bi_project_nums)\n",
    "if verbose:\n",
    "    print(f'found {len(bi_grants)} BI grants')\n"
   ]
  },
  {
   "cell_type": "markdown",
   "id": "9349dfa4-4bc1-4f17-a7b9-1fa1d6c2154b",
   "metadata": {},
   "source": [
    "Load and parse OpenNeuro metadata"
   ]
  },
  {
   "cell_type": "code",
   "execution_count": 3,
   "id": "ad2dc1a2-9fa4-45ee-8025-a8f4301a6b9e",
   "metadata": {},
   "outputs": [
    {
     "name": "stdout",
     "output_type": "stream",
     "text": [
      "found metadata for 1326 OpenNeuro datasets\n",
      "found 1003 datasets with possible funding info\n"
     ]
    }
   ],
   "source": [
    "with open(metadata_file) as f:\n",
    "    funding = json.load(f)\n",
    "if verbose:\n",
    "    print(f'found metadata for {len(funding)} OpenNeuro datasets')\n",
    "\n",
    "grant_info = {}\n",
    "grants_cited = defaultdict(lambda: [])\n",
    "nsf_grants_cited = defaultdict(lambda: [])\n",
    "bi_mentions = {}\n",
    "for k, md in funding.items():\n",
    "    if md is None:\n",
    "        continue\n",
    "    f = extract_funding_info(md)\n",
    "    # don't store entries with no funding/ackowledgments\n",
    "    if f is not None and len(f) > 0:\n",
    "        grant_info[k] = f\n",
    "print(f'found {len(grant_info)} datasets with possible funding info')\n",
    "\n"
   ]
  },
  {
   "cell_type": "markdown",
   "id": "6307d8c0-0bec-4d50-95d1-5266f4b93740",
   "metadata": {},
   "source": [
    "Find grants for each dataset"
   ]
  },
  {
   "cell_type": "code",
   "execution_count": 4,
   "id": "01017247-1c6d-43b2-a345-57055a09b348",
   "metadata": {},
   "outputs": [],
   "source": [
    "for k, gi in grant_info.items():\n",
    "    dsnum = k.split(':')[0]\n",
    "    for s in gi:\n",
    "        nih_grants_found = extract_nih_grants(s)\n",
    "        for grant in nih_grants_found:\n",
    "            if is_nih_grant(grant):\n",
    "                grants_cited[dsnum].append(grant)\n",
    "        nsf_grants_found = extract_nsf_grants(s)\n",
    "        for grant in nsf_grants_found:\n",
    "            if is_nsf_grant(grant):\n",
    "                nsf_grants_cited[dsnum].append(grant)\n",
    "        if mentions_bi(s):\n",
    "            bi_mentions[k] = s\n",
    "\n",
    "for k, grants in grants_cited.items():\n",
    "    grants_cited[k] = list(set(grants))\n",
    "for k, grants in nsf_grants_cited.items():\n",
    "    nsf_grants_cited[k] = list(set(grants))\n"
   ]
  },
  {
   "cell_type": "markdown",
   "id": "d8893491-f4a4-4e54-beef-8bd6a4ba48cb",
   "metadata": {},
   "source": [
    "Consolidate all grants\n"
   ]
  },
  {
   "cell_type": "code",
   "execution_count": 5,
   "id": "b5584713-a5d3-45fc-80d8-d349958a5a03",
   "metadata": {},
   "outputs": [
    {
     "name": "stdout",
     "output_type": "stream",
     "text": [
      "141 unique NIH grants cited in OpenNeuro\n"
     ]
    }
   ],
   "source": [
    "\n",
    "cited_grants = defaultdict(lambda: []) # add default []\n",
    "cited_bi_grants = defaultdict(lambda: [])\n",
    "all_grants = []\n",
    "for k, grants in grants_cited.items():\n",
    "    if len(grants) > 0:\n",
    "        all_grants += grants\n",
    "all_grants = list(set(all_grants))\n",
    "print(f'{len(all_grants)} unique NIH grants cited in OpenNeuro')\n"
   ]
  },
  {
   "cell_type": "code",
   "execution_count": 6,
   "id": "8f777396-10c4-46d4-8059-3542fd860325",
   "metadata": {},
   "outputs": [
    {
     "name": "stdout",
     "output_type": "stream",
     "text": [
      "31 unique NSF grants cited in OpenNeuro\n"
     ]
    }
   ],
   "source": [
    "\n",
    "all_nsf_grants = []\n",
    "for k, grants in nsf_grants_cited.items():\n",
    "    if grants is not None:\n",
    "        for g in grants:\n",
    "            all_nsf_grants.append(g)\n",
    "all_nsf_grants = list(set(all_nsf_grants))\n",
    "print(f'{len(all_nsf_grants)} unique NSF grants cited in OpenNeuro')\n",
    "   \n"
   ]
  },
  {
   "cell_type": "markdown",
   "id": "1cf2fb9c-b490-41e3-847b-8385a2306fb9",
   "metadata": {},
   "source": [
    "Index by datasets"
   ]
  },
  {
   "cell_type": "code",
   "execution_count": 7,
   "id": "9a645ea6-f586-46ad-a20e-5a9b4568cef3",
   "metadata": {},
   "outputs": [],
   "source": [
    "\n",
    "dataset_grants = defaultdict(lambda: [])\n",
    "dataset_grants_nsf = defaultdict(lambda: [])\n",
    "for k, grants in grants_cited.items():\n",
    "    for g in grants:\n",
    "        dataset_grants[g].append(k)\n",
    "for k, grants in nsf_grants_cited.items():\n",
    "    for g in grants:\n",
    "        dataset_grants_nsf[g].append(k)"
   ]
  },
  {
   "cell_type": "markdown",
   "id": "5e5e9958-0602-424a-a2e6-3c47af7af2b1",
   "metadata": {},
   "source": [
    "Get matches for BRAIN initiative grants"
   ]
  },
  {
   "cell_type": "code",
   "execution_count": 8,
   "id": "87b7229c-65e0-407c-b3a7-b4d3d41ed9f9",
   "metadata": {},
   "outputs": [
    {
     "name": "stdout",
     "output_type": "stream",
     "text": [
      "6 BI grants cited in OpenNeuro\n",
      "['1U01NS103780-01']\n",
      "Causal mapping of emotion networks with concurrent electrical stimulation and fMRI\n",
      "Adolphs, Ralph  (contact) Howard, Matthew A. Poldrack, Russell A\n",
      "['ds002799']\n",
      "\n",
      "['1UH3NS100548-01', '3UH3NS100548-01S2']\n",
      "Combined  Cortical  and  Subcortical  Recording  and Stimulation  as  a  Circuit-Oriented  Treatment  for  Obsessive-Compulsive  Disorder\n",
      "Dougherty, Darin D (contact) Eskandar, Emad N\n",
      "['ds001784']\n",
      "\n",
      "['1U01MH117023-01']\n",
      "Imaging and Analysis Techniques to Construct a Cell Census Atlas of the Human Brain\n",
      "Boas, David A Fischl, Bruce  (contact)\n",
      "['ds002179']\n",
      "\n",
      "['1R24MH117179-01']\n",
      "OpenNeuro: An open archive for analysis and sharing of BRAIN Initiative data\n",
      "Poldrack, Russell A\n",
      "['ds002799']\n",
      "\n",
      "['1R01MH111447-01']\n",
      "Neurons, Vessels and Voxels:  Multi-modal Imaging of Layer Specific Signals\n",
      "Kara, Prakash Naselaris, Thomas P Olman, Cheryl A. Ugurbil, Kamil  (contact)\n",
      "['ds002684', 'ds003043']\n",
      "\n",
      "['1R03MH111320-01']\n",
      "Computational Modeling of Deep Brain Stimulation of the Ventral Striatum\n",
      "Dougherty, Darin D Widge, Alik S (contact)\n",
      "['ds001784']\n",
      "\n",
      "5 unique datasets associated with BI grants\n"
     ]
    }
   ],
   "source": [
    "bi_matches = []\n",
    "# crossreference against bi grants\n",
    "for g in all_grants:\n",
    "    if g in bi_grants:\n",
    "        bi_matches.append(g)\n",
    "\n",
    "print(f'{len(bi_matches)} BI grants cited in OpenNeuro')\n",
    "\n",
    "bi_datasets = []\n",
    "for i in bi_matches:\n",
    "    project_match = [p for p in bi_grant_df['Project Number'] if p.find(i) > -1]\n",
    "    matching_grant = bi_grant_df.query('`Project Number` == \"%s\"' % project_match[0])\n",
    "    print(project_match)\n",
    "    print(matching_grant['Title'].values[0])\n",
    "    print(matching_grant['Investigator'].values[0])\n",
    "    print(dataset_grants[i])\n",
    "    bi_datasets += dataset_grants[i]\n",
    "    print('')\n",
    "bi_datasets = list(set(bi_datasets))\n",
    "\n",
    "print(f'{len(bi_datasets)} unique datasets associated with BI grants')"
   ]
  },
  {
   "cell_type": "code",
   "execution_count": null,
   "id": "75b8a7bd-ecec-4221-b514-161510f75b39",
   "metadata": {},
   "outputs": [],
   "source": []
  }
 ],
 "metadata": {
  "kernelspec": {
   "display_name": "Python 3",
   "language": "python",
   "name": "python3"
  },
  "language_info": {
   "codemirror_mode": {
    "name": "ipython",
    "version": 3
   },
   "file_extension": ".py",
   "mimetype": "text/x-python",
   "name": "python",
   "nbconvert_exporter": "python",
   "pygments_lexer": "ipython3",
   "version": "3.8.10"
  }
 },
 "nbformat": 4,
 "nbformat_minor": 5
}
